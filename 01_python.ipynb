{
  "nbformat": 4,
  "nbformat_minor": 0,
  "metadata": {
    "colab": {
      "provenance": [],
      "authorship_tag": "ABX9TyPVPIDXEFpEYJ7LKbj2eHBx",
      "include_colab_link": true
    },
    "kernelspec": {
      "name": "python3",
      "display_name": "Python 3"
    },
    "language_info": {
      "name": "python"
    }
  },
  "cells": [
    {
      "cell_type": "markdown",
      "metadata": {
        "id": "view-in-github",
        "colab_type": "text"
      },
      "source": [
        "<a href=\"https://colab.research.google.com/github/SRHridoy/Machine_Learning_WorkShop/blob/main/01_python.ipynb\" target=\"_parent\"><img src=\"https://colab.research.google.com/assets/colab-badge.svg\" alt=\"Open In Colab\"/></a>"
      ]
    },
    {
      "cell_type": "code",
      "execution_count": 1,
      "metadata": {
        "colab": {
          "base_uri": "https://localhost:8080/"
        },
        "id": "bbKL3sxdH6kJ",
        "outputId": "b1281498-f313-41be-c42b-fcca9ddc259e"
      },
      "outputs": [
        {
          "output_type": "stream",
          "name": "stdout",
          "text": [
            "Hello World!\n"
          ]
        }
      ],
      "source": [
        "print(\"Hello World!\")"
      ]
    },
    {
      "cell_type": "markdown",
      "source": [
        "**Taking input in Python**(shift+Enter to run)"
      ],
      "metadata": {
        "id": "PKydFFpKIvSg"
      }
    },
    {
      "cell_type": "code",
      "source": [
        "name = input(\"Enter your name : \")"
      ],
      "metadata": {
        "colab": {
          "base_uri": "https://localhost:8080/"
        },
        "id": "dsjWSCdKIxvW",
        "outputId": "2dfffda3-3be0-4dad-f712-782f48d88843"
      },
      "execution_count": 3,
      "outputs": [
        {
          "output_type": "stream",
          "name": "stdout",
          "text": [
            "Enter your name : Hridoy\n",
            "Hridoy\n"
          ]
        }
      ]
    },
    {
      "cell_type": "code",
      "source": [
        "print(\"The name is : \"+name)"
      ],
      "metadata": {
        "colab": {
          "base_uri": "https://localhost:8080/"
        },
        "id": "5n7OBjF-JY27",
        "outputId": "9a440a83-94d9-4df8-eaa7-7f4b51049510"
      },
      "execution_count": 4,
      "outputs": [
        {
          "output_type": "stream",
          "name": "stdout",
          "text": [
            "The name is : Hridoy\n"
          ]
        }
      ]
    },
    {
      "cell_type": "code",
      "source": [
        "name = input(\"Enter your University name : \")\n",
        "print(\"The Univerisity name is \"+name)"
      ],
      "metadata": {
        "colab": {
          "base_uri": "https://localhost:8080/"
        },
        "id": "C6HigxVMJcsN",
        "outputId": "f08c068a-e787-42bf-d705-34ecbb58fc35"
      },
      "execution_count": 5,
      "outputs": [
        {
          "output_type": "stream",
          "name": "stdout",
          "text": [
            "Enter your University name : HSTU\n",
            "The Univerisity name is HSTU\n"
          ]
        }
      ]
    },
    {
      "cell_type": "markdown",
      "source": [
        "**Arithmatic:**"
      ],
      "metadata": {
        "id": "kOYlmEyhKl-F"
      }
    },
    {
      "cell_type": "code",
      "source": [
        "num1 = int(input(\"Enter the first number : \"))\n",
        "num2 = int(input(\"Enter the second number : \"))\n",
        "print(num1+num2)\n",
        "print(num1-num2)\n",
        "print(num1*num2)\n",
        "print(num1/num2)"
      ],
      "metadata": {
        "colab": {
          "base_uri": "https://localhost:8080/"
        },
        "id": "rhtQmfvqKrMB",
        "outputId": "8231c107-369f-48fd-d83d-11f629f0b7a6"
      },
      "execution_count": 6,
      "outputs": [
        {
          "output_type": "stream",
          "name": "stdout",
          "text": [
            "Enter the first number : 5\n",
            "Enter the second number : 5\n",
            "10\n",
            "0\n",
            "25\n",
            "1.0\n"
          ]
        }
      ]
    },
    {
      "cell_type": "markdown",
      "source": [
        "**Why typecast**"
      ],
      "metadata": {
        "id": "PBWhRJR7LaSK"
      }
    },
    {
      "cell_type": "code",
      "source": [
        "num1 = input(\"Enter a number : \")\n",
        "print(num1)\n",
        "num2 = input(12)\n",
        "print(num2)"
      ],
      "metadata": {
        "colab": {
          "base_uri": "https://localhost:8080/"
        },
        "id": "YYVTIEyPLhqd",
        "outputId": "1f69c180-59e9-4019-9e75-35d8a84627be"
      },
      "execution_count": 7,
      "outputs": [
        {
          "output_type": "stream",
          "name": "stdout",
          "text": [
            "Enter a number : 5\n",
            "5\n",
            "122\n",
            "2\n"
          ]
        }
      ]
    },
    {
      "cell_type": "markdown",
      "source": [
        "**Conditional Statements :**"
      ],
      "metadata": {
        "id": "SCR6JMf0MoHn"
      }
    },
    {
      "cell_type": "code",
      "source": [
        "number = int(input(\"Enter the number : \"))\n",
        "\n",
        "if number % 2 == 0:\n",
        "  print(\"Even\")\n",
        "else:\n",
        "  print(\"Odd\")"
      ],
      "metadata": {
        "colab": {
          "base_uri": "https://localhost:8080/"
        },
        "id": "AyJXfFxGMsNX",
        "outputId": "89638c86-039b-4811-b2a9-0af51fe9273e"
      },
      "execution_count": 8,
      "outputs": [
        {
          "output_type": "stream",
          "name": "stdout",
          "text": [
            "Enter the number : 2\n",
            "Even\n"
          ]
        }
      ]
    },
    {
      "cell_type": "code",
      "source": [
        "year = int(input(\"Enter a year: \"))\n",
        "\n",
        "if (year % 4 == 0 and year % 100 != 0) or (year % 400 == 0):\n",
        "    print(year, \" is a leap year\")\n",
        "else:\n",
        "    print(year, \" is not a leap year\")"
      ],
      "metadata": {
        "colab": {
          "base_uri": "https://localhost:8080/"
        },
        "id": "ukjuMt7sNZxr",
        "outputId": "114a4e95-1efc-4f67-99f2-15033897feac"
      },
      "execution_count": 9,
      "outputs": [
        {
          "output_type": "stream",
          "name": "stdout",
          "text": [
            "Enter a year: 2000\n",
            "2000  is a leap year\n"
          ]
        }
      ]
    },
    {
      "cell_type": "markdown",
      "source": [
        "**Take a number and print multiplication**"
      ],
      "metadata": {
        "id": "m-8USB6xRGMZ"
      }
    },
    {
      "cell_type": "code",
      "source": [
        "num = int(input(\"Enter a number : \"))\n",
        "for i in range(1,11):\n",
        "  mul = num*i\n",
        "  print(f\"{num} x {i} = {mul}\")"
      ],
      "metadata": {
        "colab": {
          "base_uri": "https://localhost:8080/"
        },
        "id": "rZ-fyakBRORL",
        "outputId": "801fbd70-b399-44ae-949f-479207ea69e5"
      },
      "execution_count": 20,
      "outputs": [
        {
          "output_type": "stream",
          "name": "stdout",
          "text": [
            "Enter a number : 5\n",
            "5 x 1 = 5\n",
            "5 x 2 = 10\n",
            "5 x 3 = 15\n",
            "5 x 4 = 20\n",
            "5 x 5 = 25\n",
            "5 x 6 = 30\n",
            "5 x 7 = 35\n",
            "5 x 8 = 40\n",
            "5 x 9 = 45\n",
            "5 x 10 = 50\n"
          ]
        }
      ]
    },
    {
      "cell_type": "markdown",
      "source": [
        "**Loop:**"
      ],
      "metadata": {
        "id": "vAVpdw7kOMEX"
      }
    },
    {
      "cell_type": "code",
      "source": [
        "for i in range(1,10):\n",
        "  print(i)\n",
        "\n",
        "val = 1\n",
        "while(val<=10):\n",
        "  print(val)\n",
        "  val+=1"
      ],
      "metadata": {
        "colab": {
          "base_uri": "https://localhost:8080/"
        },
        "id": "BJWN5TVvOOJW",
        "outputId": "70e35dfa-bf86-491f-f585-b6ce72eda507"
      },
      "execution_count": 24,
      "outputs": [
        {
          "output_type": "stream",
          "name": "stdout",
          "text": [
            "1\n",
            "2\n",
            "3\n",
            "4\n",
            "5\n",
            "6\n",
            "7\n",
            "8\n",
            "9\n",
            "1\n",
            "2\n",
            "3\n",
            "4\n",
            "5\n",
            "6\n",
            "7\n",
            "8\n",
            "9\n",
            "10\n"
          ]
        }
      ]
    },
    {
      "cell_type": "markdown",
      "source": [
        "**Function**"
      ],
      "metadata": {
        "id": "cAqyEomZQ5Dz"
      }
    },
    {
      "cell_type": "code",
      "source": [
        "def Summation(number1, number2):\n",
        "  return number1+number2\n",
        "def Substraction(number1, number2):\n",
        "  return number1-number2\n",
        "\n",
        "num1 = int(input(\"Enter the first number : \"))\n",
        "num2 = int(input(\"Enter the second number : \"))\n",
        "\n",
        "sum = Summation(num1, num2)\n",
        "print(sum)\n",
        "sub = Substraction(num1, num2)\n",
        "print(sub)"
      ],
      "metadata": {
        "colab": {
          "base_uri": "https://localhost:8080/"
        },
        "id": "hCwCkSRSRAI8",
        "outputId": "dfee9104-1be4-49ed-ffae-906112a75254"
      },
      "execution_count": 22,
      "outputs": [
        {
          "output_type": "stream",
          "name": "stdout",
          "text": [
            "Enter the first number : 5\n",
            "Enter the second number : 5\n",
            "10\n",
            "0\n"
          ]
        }
      ]
    },
    {
      "cell_type": "code",
      "source": [
        "# Leap year HomeWork:\n",
        "def isLeapYear(year):\n",
        "  if (year % 4 == 0 and year % 100 != 0) or (year % 400 == 0):\n",
        "    print(year, \" is a leap year\")\n",
        "  else:\n",
        "    print(year, \" is not a leap year\")\n",
        "\n",
        "year = int(input(\"Enter a year: \"))\n",
        "\n",
        "isLeapYear(year)"
      ],
      "metadata": {
        "colab": {
          "base_uri": "https://localhost:8080/"
        },
        "id": "U_-s5rYTTC-r",
        "outputId": "7100fca8-2b83-4093-f735-8a7b391361d1"
      },
      "execution_count": 23,
      "outputs": [
        {
          "output_type": "stream",
          "name": "stdout",
          "text": [
            "Enter a year: 2000\n",
            "2000  is a leap year\n"
          ]
        }
      ]
    },
    {
      "cell_type": "markdown",
      "source": [
        "**Recursion**"
      ],
      "metadata": {
        "id": "BzZ_0U00UjRl"
      }
    },
    {
      "cell_type": "code",
      "source": [
        "def fact(num):\n",
        "  if num == 1:\n",
        "    return 1\n",
        "  else:\n",
        "    return num * fact(num-1)\n",
        "\n",
        "number = int(input(\"Enter a number : \"))\n",
        "fact(number)"
      ],
      "metadata": {
        "colab": {
          "base_uri": "https://localhost:8080/"
        },
        "id": "IJBcjRIpUlvq",
        "outputId": "106cf55a-a5c0-4175-849b-351e1df3ff0d"
      },
      "execution_count": 27,
      "outputs": [
        {
          "name": "stdout",
          "output_type": "stream",
          "text": [
            "Enter a number : 5\n"
          ]
        },
        {
          "output_type": "execute_result",
          "data": {
            "text/plain": [
              "120"
            ]
          },
          "metadata": {},
          "execution_count": 27
        }
      ]
    },
    {
      "cell_type": "markdown",
      "source": [
        "**Object:**"
      ],
      "metadata": {
        "id": "csqkQz7IVbCJ"
      }
    },
    {
      "cell_type": "code",
      "source": [
        "class HSTU:\n",
        "    Name = None\n",
        "    def __init__(self):\n",
        "        self.Name = None\n",
        "        self.ID = None\n",
        "\n",
        "    def setName(self, name):\n",
        "        self.Name = name\n",
        "\n",
        "    def getName(self):\n",
        "        return self.Name\n",
        "\n",
        "student = HSTU()\n",
        "student.setName(\"Hridoy\")\n",
        "print(student.getName())\n",
        "student.setName(\"King\")\n",
        "print(student.Name)"
      ],
      "metadata": {
        "colab": {
          "base_uri": "https://localhost:8080/"
        },
        "id": "BPG9EA1pVeMO",
        "outputId": "c90e8a5a-b7f0-4f43-f155-5d934885b4cf"
      },
      "execution_count": 41,
      "outputs": [
        {
          "output_type": "stream",
          "name": "stdout",
          "text": [
            "Hridoy\n",
            "King\n"
          ]
        }
      ]
    },
    {
      "cell_type": "markdown",
      "source": [
        "**List in Python**"
      ],
      "metadata": {
        "id": "gRIpms9CZsmX"
      }
    },
    {
      "cell_type": "code",
      "source": [
        "li = []\n",
        "\n",
        "for i in range(0, 5):\n",
        "  x = int(input(f\"Enter the {i}th number: \"))\n",
        "  li.append(x)\n",
        "\n",
        "even = 0\n",
        "odd = 0\n",
        "for i in range(0, 5):\n",
        "\n",
        "  if li[i]%2==0:\n",
        "    even+=1\n",
        "  else:\n",
        "    odd+=1\n",
        "print(f\"No. of Even : {even}\")\n",
        "print(f\"No. of Odd : {odd}\")"
      ],
      "metadata": {
        "colab": {
          "base_uri": "https://localhost:8080/"
        },
        "id": "AGQi40oSZvPo",
        "outputId": "3c2b22e6-e493-41e9-e0d1-518b37f7deb4"
      },
      "execution_count": 50,
      "outputs": [
        {
          "output_type": "stream",
          "name": "stdout",
          "text": [
            "Enter the 0th number: 2\n",
            "Enter the 1th number: 3\n",
            "Enter the 2th number: 4\n",
            "Enter the 3th number: 5\n",
            "Enter the 4th number: 6\n",
            "No. of Even : 3\n",
            "No. of Odd : 2\n"
          ]
        }
      ]
    }
  ]
}